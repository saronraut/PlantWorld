{
 "cells": [
  {
   "cell_type": "code",
   "execution_count": 1,
   "metadata": {},
   "outputs": [],
   "source": [
    "from bs4 import BeautifulSoup\n",
    "import pymongo\n",
    "import pandas as pd\n",
    "import requests\n",
    "from sqlalchemy import create_engine\n",
    "import json\n",
    "from datetime import datetime\n",
    "from time import sleep"
   ]
  },
  {
   "cell_type": "code",
   "execution_count": 2,
   "metadata": {},
   "outputs": [],
   "source": [
    "zone_code = [601,602,603,604,605,606,325]"
   ]
  },
  {
   "cell_type": "code",
   "execution_count": 3,
   "metadata": {},
   "outputs": [],
   "source": [
    "APIKey = \"lJB461ruHXGiw6SBUD_liGd6XLjQI6Kyqj0AGLhhKn0\""
   ]
  },
  {
   "cell_type": "code",
   "execution_count": 4,
   "metadata": {},
   "outputs": [
    {
     "name": "stdout",
     "output_type": "stream",
     "text": [
      "downloading: https://trefle.io/api/v1/distributions/601?token=lJB461ruHXGiw6SBUD_liGd6XLjQI6Kyqj0AGLhhKn0\n",
      "downloading: https://trefle.io/api/v1/distributions/602?token=lJB461ruHXGiw6SBUD_liGd6XLjQI6Kyqj0AGLhhKn0\n",
      "downloading: https://trefle.io/api/v1/distributions/603?token=lJB461ruHXGiw6SBUD_liGd6XLjQI6Kyqj0AGLhhKn0\n",
      "downloading: https://trefle.io/api/v1/distributions/604?token=lJB461ruHXGiw6SBUD_liGd6XLjQI6Kyqj0AGLhhKn0\n",
      "downloading: https://trefle.io/api/v1/distributions/605?token=lJB461ruHXGiw6SBUD_liGd6XLjQI6Kyqj0AGLhhKn0\n",
      "downloading: https://trefle.io/api/v1/distributions/606?token=lJB461ruHXGiw6SBUD_liGd6XLjQI6Kyqj0AGLhhKn0\n",
      "downloading: https://trefle.io/api/v1/distributions/325?token=lJB461ruHXGiw6SBUD_liGd6XLjQI6Kyqj0AGLhhKn0\n"
     ]
    }
   ],
   "source": [
    "state_slug = []\n",
    "\n",
    "for zone in zone_code:\n",
    "    url = f\"https://trefle.io/api/v1/distributions/{zone}?token=lJB461ruHXGiw6SBUD_liGd6XLjQI6Kyqj0AGLhhKn0\"\n",
    "    print(\"downloading: \" + url)\n",
    "    response = requests.get(url)\n",
    "    data = response.json()['data']['children']\n",
    "    \n",
    "    for state in data:\n",
    "        state_slug.append(state['slug'])"
   ]
  },
  {
   "cell_type": "code",
   "execution_count": 5,
   "metadata": {},
   "outputs": [
    {
     "data": {
      "text/plain": [
       "['was',\n",
       " 'wyo',\n",
       " 'ida',\n",
       " 'mnt',\n",
       " 'col',\n",
       " 'ore',\n",
       " 'iow',\n",
       " 'kan',\n",
       " 'mso',\n",
       " 'neb',\n",
       " 'sda',\n",
       " 'wis',\n",
       " 'ill',\n",
       " 'min',\n",
       " 'okl',\n",
       " 'nda',\n",
       " 'mas',\n",
       " 'rho',\n",
       " 'mic',\n",
       " 'ver',\n",
       " 'wva',\n",
       " 'mai',\n",
       " 'ohi',\n",
       " 'ini',\n",
       " 'nwh',\n",
       " 'cnt',\n",
       " 'nwj',\n",
       " 'nwy',\n",
       " 'pen',\n",
       " 'ari',\n",
       " 'nev',\n",
       " 'cal',\n",
       " 'uta',\n",
       " 'nwm',\n",
       " 'tex',\n",
       " 'mry',\n",
       " 'ark',\n",
       " 'nca',\n",
       " 'vrg',\n",
       " 'kty',\n",
       " 'fla',\n",
       " 'msi',\n",
       " 'ten',\n",
       " 'ala',\n",
       " 'wdc',\n",
       " 'del',\n",
       " 'geo',\n",
       " 'lou',\n",
       " 'sca']"
      ]
     },
     "execution_count": 5,
     "metadata": {},
     "output_type": "execute_result"
    }
   ],
   "source": [
    "state_slug"
   ]
  },
  {
   "cell_type": "code",
   "execution_count": null,
   "metadata": {},
   "outputs": [],
   "source": []
  },
  {
   "cell_type": "code",
   "execution_count": null,
   "metadata": {},
   "outputs": [],
   "source": [
    "# using the state slug, we need to loop through to get list of all the plants per state \n",
    "# would require us to loop through all the pages in the list \n",
    "links = []\n",
    "for slug in state_slug:\n",
    "    url = f\"https://trefle.io/api/v1/distributions/{slug}?token=lJB461ruHXGiw6SBUD_liGd6XLjQI6Kyqj0AGLhhKn0\"\n",
    "    response = requests.get(url)\n",
    "    print(url)\n",
    "#     data = response.json()['data']['links']['plants']\n",
    "#     x = links.append(data)\n",
    "    "
   ]
  },
  {
   "cell_type": "code",
   "execution_count": null,
   "metadata": {},
   "outputs": [],
   "source": [
    "# loop through the list \n",
    "for link in links:\n",
    "    url = f\"https://trefle.io{link}?token=lJB461ruHXGiw6SBUD_liGd6XLjQI6Kyqj0AGLhhKn0\"\n",
    "    print(url)\n",
    "    response = requests.get(url)\n",
    "    meta_data = response.json()['meta']['total']\n",
    "    if meta_data %20 != 0:\n",
    "        pages = round(meta_data/20 + 1, 0)\n",
    "    else:\n",
    "        pages = int(meta_data/20)\n",
    "\n",
    "    pages = int(pages)\n",
    "    print(pages)\n"
   ]
  },
  {
   "cell_type": "code",
   "execution_count": null,
   "metadata": {},
   "outputs": [],
   "source": [
    "state_slug"
   ]
  },
  {
   "cell_type": "code",
   "execution_count": null,
   "metadata": {},
   "outputs": [],
   "source": [
    "state_slug_1 = ['was',\n",
    " 'wyo',\n",
    " 'ida',\n",
    " 'mnt',\n",
    " 'col',\n",
    " 'ore',\n",
    " 'iow',\n",
    " 'kan',\n",
    " 'mso',\n",
    " 'neb',\n",
    " 'sda',\n",
    " 'wis',]\n"
   ]
  },
  {
   "cell_type": "code",
   "execution_count": null,
   "metadata": {},
   "outputs": [],
   "source": [
    "state_slug_2 = ['ill',\n",
    " 'min',\n",
    " 'okl',\n",
    " 'nda',\n",
    " 'mas',\n",
    " 'rho',\n",
    " 'mic',\n",
    " 'ver',\n",
    " 'wva',\n",
    " 'mai',\n",
    " 'ohi',\n",
    " 'ini',\n",
    " 'nwh',\n",
    " 'cnt',\n",
    " 'nwj',]"
   ]
  },
  {
   "cell_type": "code",
   "execution_count": null,
   "metadata": {},
   "outputs": [],
   "source": [
    "state_slug_3 = ['nwy',\n",
    " 'pen',\n",
    " 'ari',\n",
    " 'nev',\n",
    " 'cal',\n",
    " 'uta',\n",
    " 'nwm',\n",
    " 'tex',\n",
    " 'mry',\n",
    " 'ark',\n",
    " 'nca',\n",
    " 'vrg',\n",
    " 'kty',\n",
    " 'fla',\n",
    " 'msi',\n",
    " 'ten',]"
   ]
  },
  {
   "cell_type": "code",
   "execution_count": null,
   "metadata": {},
   "outputs": [],
   "source": [
    "state_slug_4 = ['ala',\n",
    " 'wdc',\n",
    " 'del',\n",
    " 'geo',\n",
    " 'lou',\n",
    " 'sca']"
   ]
  },
  {
   "cell_type": "code",
   "execution_count": null,
   "metadata": {},
   "outputs": [],
   "source": []
  },
  {
   "cell_type": "code",
   "execution_count": null,
   "metadata": {},
   "outputs": [],
   "source": []
  },
  {
   "cell_type": "code",
   "execution_count": null,
   "metadata": {},
   "outputs": [],
   "source": []
  },
  {
   "cell_type": "code",
   "execution_count": null,
   "metadata": {},
   "outputs": [],
   "source": []
  },
  {
   "cell_type": "code",
   "execution_count": null,
   "metadata": {},
   "outputs": [],
   "source": []
  },
  {
   "cell_type": "code",
   "execution_count": null,
   "metadata": {},
   "outputs": [],
   "source": []
  },
  {
   "cell_type": "code",
   "execution_count": 21,
   "metadata": {},
   "outputs": [],
   "source": [
    "state_slug_1 = ['wdc']"
   ]
  },
  {
   "cell_type": "code",
   "execution_count": 8,
   "metadata": {},
   "outputs": [],
   "source": [
    "# state_slug"
   ]
  },
  {
   "cell_type": "code",
   "execution_count": 32,
   "metadata": {},
   "outputs": [
    {
     "name": "stdout",
     "output_type": "stream",
     "text": [
      "63\n"
     ]
    }
   ],
   "source": [
    "pl_name = []\n",
    "pl_family = []\n",
    "pl_img = []\n",
    "pl_slug = []\n",
    "pl_yr = []\n",
    "pl_sct_name = []\n",
    "pl_family_common_name = []\n",
    "slug_x = []\n",
    "\n",
    "for slug in state_slug_1:\n",
    "    url = f\"https://trefle.io/api/v1/distributions/{slug}?token=lJB461ruHXGiw6SBUD_liGd6XLjQI6Kyqj0AGLhhKn0\"\n",
    "    response = requests.get(url)\n",
    "    data = response.json()['data']['links']['species']\n",
    "#     print(url)\n",
    "\n",
    "\n",
    "    url = f\"https://trefle.io{data}?token=lJB461ruHXGiw6SBUD_liGd6XLjQI6Kyqj0AGLhhKn0\"\n",
    "#     print(url)\n",
    "    response = requests.get(url)\n",
    "    meta_data = response.json()['meta']['total']\n",
    "\n",
    "    if meta_data %20 != 0:\n",
    "        pages = round(meta_data/20 + 1, 0)\n",
    "    else:\n",
    "        pages = int(meta_data/20)\n",
    "\n",
    "    pages = int(pages)\n",
    "    print(pages)\n",
    "#     pages = int(6)\n",
    "    \n",
    "    for page_num in range(1,pages + 1):\n",
    "        url = f\"https://trefle.io/api/v1/distributions/was/species?page={page_num}&zone_id={slug}&token=lJB461ruHXGiw6SBUD_liGd6XLjQI6Kyqj0AGLhhKn0\"\n",
    "#         state_slug = slug\n",
    "#         print(f\"I am on page: {page_num}\")\n",
    "        response = requests.get(url)\n",
    "        p_data = response.json()['data']\n",
    "#         time.sleep(0.5)\n",
    "        for plant in p_data:\n",
    "            plant_name = plant['common_name']\n",
    "            plant_family = plant['family']\n",
    "            plant_img = plant['image_url']\n",
    "            plant_slug = plant['slug']\n",
    "            plant_year = plant['year']\n",
    "            plant_science = plant['scientific_name']\n",
    "            plant_family_common_name = plant['family_common_name']\n",
    "            slug = slug\n",
    "            slug_x.append(slug)\n",
    "            pl_name.append(plant_name)\n",
    "            pl_family.append(plant_family)\n",
    "            pl_img.append(plant_img)\n",
    "            pl_slug.append(plant_slug)\n",
    "            pl_yr.append(plant_year)\n",
    "            pl_sct_name.append(plant_science)\n",
    "            pl_family_common_name.append(plant_family_common_name)\n",
    "            \n",
    "            \n",
    "        \n"
   ]
  },
  {
   "cell_type": "code",
   "execution_count": 11,
   "metadata": {},
   "outputs": [
    {
     "data": {
      "text/plain": [
       "5460"
      ]
     },
     "execution_count": 11,
     "metadata": {},
     "output_type": "execute_result"
    }
   ],
   "source": [
    "3016 + 2444"
   ]
  },
  {
   "cell_type": "code",
   "execution_count": 34,
   "metadata": {},
   "outputs": [
    {
     "data": {
      "text/plain": [
       "1260"
      ]
     },
     "execution_count": 34,
     "metadata": {},
     "output_type": "execute_result"
    }
   ],
   "source": [
    "len(slug_x)"
   ]
  },
  {
   "cell_type": "code",
   "execution_count": null,
   "metadata": {},
   "outputs": [],
   "source": [
    "plants_returned = pd.DataFrame({\"Common_Name\" : common_name_final,\n",
    "                                \"Scientific_Name\": scientific_names_final,\n",
    "                            \"Family_Common_Name\": family_common_name_final,\n",
    "                                    \"Image_Url\" : image_url_final})"
   ]
  }
 ],
 "metadata": {
  "kernelspec": {
   "display_name": "Python 3",
   "language": "python",
   "name": "python3"
  },
  "language_info": {
   "codemirror_mode": {
    "name": "ipython",
    "version": 3
   },
   "file_extension": ".py",
   "mimetype": "text/x-python",
   "name": "python",
   "nbconvert_exporter": "python",
   "pygments_lexer": "ipython3",
   "version": "3.8.3"
  }
 },
 "nbformat": 4,
 "nbformat_minor": 4
}
