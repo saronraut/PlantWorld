{
 "cells": [
  {
   "cell_type": "code",
   "execution_count": 1,
   "metadata": {},
   "outputs": [],
   "source": [
    "from bs4 import BeautifulSoup\n",
    "import pymongo\n",
    "import pandas as pd\n",
    "import requests\n",
    "from sqlalchemy import create_engine\n",
    "import json"
   ]
  },
  {
   "cell_type": "code",
   "execution_count": 2,
   "metadata": {},
   "outputs": [
    {
     "data": {
      "text/plain": [
       "'https://trefle.io/api/v1/families?token=lJB461ruHXGiw6SBUD_liGd6XLjQI6Kyqj0AGLhhKn0'"
      ]
     },
     "execution_count": 2,
     "metadata": {},
     "output_type": "execute_result"
    }
   ],
   "source": [
    "APIKey = \"lJB461ruHXGiw6SBUD_liGd6XLjQI6Kyqj0AGLhhKn0\"\n",
    "url = f\"https://trefle.io/api/v1/families?token={APIKey}\"\n",
    "url"
   ]
  },
  {
   "cell_type": "code",
   "execution_count": 4,
   "metadata": {},
   "outputs": [
    {
     "data": {
      "text/plain": [
       "34"
      ]
     },
     "execution_count": 4,
     "metadata": {},
     "output_type": "execute_result"
    }
   ],
   "source": [
    "response = requests.get(url)\n",
    "data = response.json()\n",
    "meta_data = data['meta']['total']\n",
    "# meta_data\n",
    "\n",
    "if meta_data %20 != 0:\n",
    "    pages = round(meta_data/20 + 1, 0)\n",
    "else:\n",
    "    pages = int(meta_data/20)\n",
    "\n",
    "pages = int(pages)\n",
    "pages"
   ]
  },
  {
   "cell_type": "code",
   "execution_count": 14,
   "metadata": {},
   "outputs": [
    {
     "name": "stdout",
     "output_type": "stream",
     "text": [
      "downloading https://trefle.io/api/v1/families?page=1&token=lJB461ruHXGiw6SBUD_liGd6XLjQI6Kyqj0AGLhhKn0\n"
     ]
    },
    {
     "ename": "TypeError",
     "evalue": "'int' object is not subscriptable",
     "output_type": "error",
     "traceback": [
      "\u001b[0;31m---------------------------------------------------------------------------\u001b[0m",
      "\u001b[0;31mTypeError\u001b[0m                                 Traceback (most recent call last)",
      "\u001b[0;32m<ipython-input-14-c0e84fb24bc7>\u001b[0m in \u001b[0;36m<module>\u001b[0;34m\u001b[0m\n\u001b[1;32m     19\u001b[0m \u001b[0;34m\u001b[0m\u001b[0m\n\u001b[1;32m     20\u001b[0m     \u001b[0;32mfor\u001b[0m \u001b[0mfamily\u001b[0m \u001b[0;32min\u001b[0m \u001b[0mdata\u001b[0m\u001b[0;34m:\u001b[0m\u001b[0;34m\u001b[0m\u001b[0;34m\u001b[0m\u001b[0m\n\u001b[0;32m---> 21\u001b[0;31m         \u001b[0mdiv_class_name\u001b[0m\u001b[0;34m.\u001b[0m\u001b[0mappend\u001b[0m\u001b[0;34m(\u001b[0m\u001b[0mfamily\u001b[0m\u001b[0;34m[\u001b[0m\u001b[0;34m'id'\u001b[0m\u001b[0;34m]\u001b[0m\u001b[0;34m[\u001b[0m\u001b[0;34m'division_order'\u001b[0m\u001b[0;34m]\u001b[0m\u001b[0;34m[\u001b[0m\u001b[0;34m'division_class'\u001b[0m\u001b[0;34m]\u001b[0m\u001b[0;34m[\u001b[0m\u001b[0;34m'name'\u001b[0m\u001b[0;34m]\u001b[0m\u001b[0;34m)\u001b[0m\u001b[0;34m\u001b[0m\u001b[0;34m\u001b[0m\u001b[0m\n\u001b[0m\u001b[1;32m     22\u001b[0m \u001b[0;34m\u001b[0m\u001b[0m\n\u001b[1;32m     23\u001b[0m \u001b[0;34m\u001b[0m\u001b[0m\n",
      "\u001b[0;31mTypeError\u001b[0m: 'int' object is not subscriptable"
     ]
    }
   ],
   "source": [
    "family_name = []\n",
    "family_slug = []\n",
    "div_order_name = []\n",
    "div_order_slug = []\n",
    "div_class_name = []\n",
    "div_class_slug = []\n",
    "div_name = []\n",
    "div_slug = []\n",
    "sub_kngdm_name = []\n",
    "sub_kngdm_slug = []\n",
    "kngdm_name = []\n",
    "kngdm_slug = []\n",
    "\n",
    "for page_num in range(1,pages+1):\n",
    "    url = f'https://trefle.io/api/v1/families?page={page_num}&token=lJB461ruHXGiw6SBUD_liGd6XLjQI6Kyqj0AGLhhKn0'\n",
    "    print(\"downloading\", url)\n",
    "    response = requests.get(url)\n",
    "    data = response.json()['data']\n",
    "    \n",
    "    for family in data:\n",
    "        div_class_name.append(family['id']['division_order']['division_class']['name'])\n",
    "        \n",
    "    \n",
    "\n",
    "len(div_class_name)\n",
    "print(div_class_name[0])"
   ]
  },
  {
   "cell_type": "code",
   "execution_count": null,
   "metadata": {},
   "outputs": [],
   "source": []
  }
 ],
 "metadata": {
  "kernelspec": {
   "display_name": "Python 3",
   "language": "python",
   "name": "python3"
  },
  "language_info": {
   "codemirror_mode": {
    "name": "ipython",
    "version": 3
   },
   "file_extension": ".py",
   "mimetype": "text/x-python",
   "name": "python",
   "nbconvert_exporter": "python",
   "pygments_lexer": "ipython3",
   "version": "3.8.3"
  }
 },
 "nbformat": 4,
 "nbformat_minor": 4
}
