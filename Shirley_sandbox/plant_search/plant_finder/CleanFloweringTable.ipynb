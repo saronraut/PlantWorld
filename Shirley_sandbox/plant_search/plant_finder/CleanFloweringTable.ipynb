{
 "cells": [
  {
   "cell_type": "code",
   "execution_count": 1,
   "metadata": {},
   "outputs": [],
   "source": [
    "import os\n",
    "import pandas as pd"
   ]
  },
  {
   "cell_type": "code",
   "execution_count": 4,
   "metadata": {},
   "outputs": [],
   "source": [
    "# data was precleaned for this csv - the trefle io data was cleaned by Saron\n",
    "import sqlite3\n",
    "import pandas as pd\n",
    "\n",
    "# load data\n",
    "flower_df = pd.read_csv('flowering.csv')\n",
    "\n",
    "# strip whitespace from headers\n",
    "flower_df.columns = flower_df.columns.str.strip()\n",
    "\n",
    "con = sqlite3.connect(\"species.sqlite\")\n",
    "\n",
    "# drop data into database\n",
    "flower_df.to_sql(\"flowering\", con)\n",
    "\n",
    "con.close()"
   ]
  },
  {
   "cell_type": "code",
   "execution_count": null,
   "metadata": {},
   "outputs": [],
   "source": []
  },
  {
   "cell_type": "code",
   "execution_count": null,
   "metadata": {},
   "outputs": [],
   "source": []
  }
 ],
 "metadata": {
  "kernelspec": {
   "display_name": "Python 3",
   "language": "python",
   "name": "python3"
  },
  "language_info": {
   "codemirror_mode": {
    "name": "ipython",
    "version": 3
   },
   "file_extension": ".py",
   "mimetype": "text/x-python",
   "name": "python",
   "nbconvert_exporter": "python",
   "pygments_lexer": "ipython3",
   "version": "3.8.3"
  }
 },
 "nbformat": 4,
 "nbformat_minor": 4
}
