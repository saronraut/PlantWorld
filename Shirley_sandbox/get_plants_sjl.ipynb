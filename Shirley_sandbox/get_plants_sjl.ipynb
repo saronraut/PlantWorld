{
 "cells": [
  {
   "cell_type": "code",
   "execution_count": 1,
   "metadata": {},
   "outputs": [],
   "source": [
    "from bs4 import BeautifulSoup\n",
    "import pymongo\n",
    "import pandas as pd\n",
    "import numpy as np\n",
    "import requests\n",
    "import random\n",
    "from sqlalchemy import create_engine\n",
    "from config import trefle_key\n",
    "token = trefle_key\n",
    "# Document Resource :https://docs.trefle.io/docs/examples/snippets"
   ]
  },
  {
   "cell_type": "code",
   "execution_count": 13,
   "metadata": {},
   "outputs": [
    {
     "data": {
      "text/plain": [
       "1"
      ]
     },
     "execution_count": 13,
     "metadata": {},
     "output_type": "execute_result"
    }
   ],
   "source": [
    "#set-up to generate a list of returned data in a loop\n",
    "search_input = 'lady slipper'\n",
    "search = search_input.replace(\" \",\"%20\")\n",
    "\n",
    "name_url = f'https://trefle.io/api/v1/plants/search?token={token}&q={search}'\n",
    "results = requests.get(name_url)\n",
    "meta_data = results.json()['meta']\n",
    "meta_total = meta_data[\"total\"]\n",
    "if meta_total/20 < 1:\n",
    "    pages = 1\n",
    "elif meta_total % 20 != 0:\n",
    "    pages = round(meta_total/20 +1,0)\n",
    "else:\n",
    "    pages = int(meta_total/20)\n",
    "    \n",
    "pages = int(pages)\n",
    "pages\n",
    "    "
   ]
  },
  {
   "cell_type": "markdown",
   "metadata": {},
   "source": [
    "### Create empty lists and loop through pages\n"
   ]
  },
  {
   "cell_type": "code",
   "execution_count": 14,
   "metadata": {},
   "outputs": [
    {
     "name": "stdout",
     "output_type": "stream",
     "text": [
      "https://trefle.io/api/v1/plants/search?token=gIpeDhQj51LoZphqppfDxy1OSKQ1P8u9p8p5JUuZB_g&q=lady%20slipper&page=1\n"
     ]
    },
    {
     "data": {
      "text/plain": [
       "[['Cypripedium calceolus',\n",
       "  'Cypripedium parviflorum',\n",
       "  'Cypripedium reginae',\n",
       "  'Cypripedium candidum',\n",
       "  'Cypripedium guttatum',\n",
       "  'Cypripedium passerinum',\n",
       "  'Cypripedium montanum',\n",
       "  'Cypripedium arietinum',\n",
       "  'Cypripedium californicum',\n",
       "  'Cypripedium kentuckiense',\n",
       "  'Cypripedium japonicum',\n",
       "  'Cypripedium acaule',\n",
       "  'Cypripedium fasciculatum',\n",
       "  'Centrosema virginianum',\n",
       "  'Cyclanthera pedata',\n",
       "  'Cypripedium × columbianum',\n",
       "  'Cypripedium × andrewsii',\n",
       "  'Cypripedium × herae']]"
      ]
     },
     "execution_count": 14,
     "metadata": {},
     "output_type": "execute_result"
    }
   ],
   "source": [
    "common_name=[]\n",
    "scientific_name =[]\n",
    "image_url=[]\n",
    "family_common_name =[]\n",
    "\n",
    "\n",
    "for page in range(1,pages+1):\n",
    "    page_url = f'https://trefle.io/api/v1/plants/search?token={token}&q={search}&page={page}'\n",
    "    print(page_url)\n",
    "    results = requests.get(page_url)\n",
    "    data = results.json()['data']\n",
    "    names = [sub['common_name'] for sub in data]\n",
    "    s_name = [sub['scientific_name'] for sub in data]\n",
    "    image = [sub['image_url'] for sub in data]\n",
    "    family = [sub['family_common_name'] for sub in data]\n",
    "    common_name.append(names)\n",
    "    scientific_name.append(s_name)\n",
    "    family_common_name.append(family)\n",
    "    image_url.append(image)\n",
    "\n",
    "    i = +1\n",
    "scientific_name"
   ]
  },
  {
   "cell_type": "code",
   "execution_count": 15,
   "metadata": {},
   "outputs": [],
   "source": [
    "def flatten_list(_2d_list):\n",
    "    flat_list = []\n",
    "    # Iterate throu the outer list\n",
    "    for element in _2d_list:\n",
    "        if type(element) is list:\n",
    "            # If the element is of type list, iterate through the sublist\n",
    "            for item in element:\n",
    "                flat_list.append(item)\n",
    "        else:\n",
    "            flat_list.append(element)\n",
    "    return flat_list"
   ]
  },
  {
   "cell_type": "code",
   "execution_count": 16,
   "metadata": {},
   "outputs": [],
   "source": [
    "scientific_names_final = flatten_list(scientific_name)\n",
    "common_name_final = flatten_list(common_name)\n",
    "image_url_final = flatten_list(image_url)\n",
    "family_common_name_final = flatten_list(family_common_name)\n"
   ]
  },
  {
   "cell_type": "code",
   "execution_count": 17,
   "metadata": {},
   "outputs": [],
   "source": [
    "# combine into one pandas dataframe\n",
    "plants_returned = pd.DataFrame({\"Common_Name\" : common_name_final,\n",
    "                                \"Scientific_Name\": scientific_names_final,\n",
    "                            \"Family_Common_Name\": family_common_name_final,\n",
    "                                    \"Image_Url\" : image_url_final})\n",
    "\n"
   ]
  },
  {
   "cell_type": "code",
   "execution_count": 49,
   "metadata": {},
   "outputs": [
    {
     "data": {
      "text/html": [
       "<div>\n",
       "<style scoped>\n",
       "    .dataframe tbody tr th:only-of-type {\n",
       "        vertical-align: middle;\n",
       "    }\n",
       "\n",
       "    .dataframe tbody tr th {\n",
       "        vertical-align: top;\n",
       "    }\n",
       "\n",
       "    .dataframe thead th {\n",
       "        text-align: right;\n",
       "    }\n",
       "</style>\n",
       "<table border=\"1\" class=\"dataframe\">\n",
       "  <thead>\n",
       "    <tr style=\"text-align: right;\">\n",
       "      <th></th>\n",
       "      <th>Common_Name</th>\n",
       "      <th>Scientific_Name</th>\n",
       "      <th>Family_Common_Name</th>\n",
       "      <th>Image_Url</th>\n",
       "    </tr>\n",
       "  </thead>\n",
       "  <tbody>\n",
       "    <tr>\n",
       "      <th>0</th>\n",
       "      <td>Lady's-slipper</td>\n",
       "      <td>Cypripedium calceolus</td>\n",
       "      <td>None</td>\n",
       "      <td>https://bs.floristic.org/image/o/c832369ad93cd...</td>\n",
       "    </tr>\n",
       "    <tr>\n",
       "      <th>1</th>\n",
       "      <td>Lesser yellow lady's slipper</td>\n",
       "      <td>Cypripedium parviflorum</td>\n",
       "      <td>None</td>\n",
       "      <td>https://bs.floristic.org/image/o/a69bf25c67aea...</td>\n",
       "    </tr>\n",
       "    <tr>\n",
       "      <th>2</th>\n",
       "      <td>Showy lady's slipper</td>\n",
       "      <td>Cypripedium reginae</td>\n",
       "      <td>None</td>\n",
       "      <td>https://d2seqvvyy3b8p2.cloudfront.net/b7f2d9f7...</td>\n",
       "    </tr>\n",
       "    <tr>\n",
       "      <th>3</th>\n",
       "      <td>White lady's slipper</td>\n",
       "      <td>Cypripedium candidum</td>\n",
       "      <td>None</td>\n",
       "      <td>https://storage.googleapis.com/powop-assets/or...</td>\n",
       "    </tr>\n",
       "    <tr>\n",
       "      <th>4</th>\n",
       "      <td>Spotted lady's slipper</td>\n",
       "      <td>Cypripedium guttatum</td>\n",
       "      <td>None</td>\n",
       "      <td>https://d2seqvvyy3b8p2.cloudfront.net/fbe41511...</td>\n",
       "    </tr>\n",
       "    <tr>\n",
       "      <th>5</th>\n",
       "      <td>Sparrowegg lady's slipper</td>\n",
       "      <td>Cypripedium passerinum</td>\n",
       "      <td>None</td>\n",
       "      <td>https://d2seqvvyy3b8p2.cloudfront.net/46d0db6e...</td>\n",
       "    </tr>\n",
       "    <tr>\n",
       "      <th>6</th>\n",
       "      <td>Mountain lady's slipper</td>\n",
       "      <td>Cypripedium montanum</td>\n",
       "      <td>None</td>\n",
       "      <td>https://d2seqvvyy3b8p2.cloudfront.net/1aee1b17...</td>\n",
       "    </tr>\n",
       "    <tr>\n",
       "      <th>7</th>\n",
       "      <td>Ram's head lady's slipper</td>\n",
       "      <td>Cypripedium arietinum</td>\n",
       "      <td>None</td>\n",
       "      <td>https://d2seqvvyy3b8p2.cloudfront.net/8c069578...</td>\n",
       "    </tr>\n",
       "    <tr>\n",
       "      <th>8</th>\n",
       "      <td>California lady's slipper</td>\n",
       "      <td>Cypripedium californicum</td>\n",
       "      <td>None</td>\n",
       "      <td>None</td>\n",
       "    </tr>\n",
       "    <tr>\n",
       "      <th>9</th>\n",
       "      <td>Kentucky lady's slipper</td>\n",
       "      <td>Cypripedium kentuckiense</td>\n",
       "      <td>None</td>\n",
       "      <td>None</td>\n",
       "    </tr>\n",
       "    <tr>\n",
       "      <th>10</th>\n",
       "      <td>Japanese lady's-slipper</td>\n",
       "      <td>Cypripedium japonicum</td>\n",
       "      <td>None</td>\n",
       "      <td>https://bs.floristic.org/image/o/1d1cc74dda094...</td>\n",
       "    </tr>\n",
       "    <tr>\n",
       "      <th>11</th>\n",
       "      <td>Moccasin flower</td>\n",
       "      <td>Cypripedium acaule</td>\n",
       "      <td>None</td>\n",
       "      <td>https://bs.floristic.org/image/o/cf2f457bade4e...</td>\n",
       "    </tr>\n",
       "    <tr>\n",
       "      <th>12</th>\n",
       "      <td>Clustered lady's slipper</td>\n",
       "      <td>Cypripedium fasciculatum</td>\n",
       "      <td>None</td>\n",
       "      <td>https://d2seqvvyy3b8p2.cloudfront.net/06979339...</td>\n",
       "    </tr>\n",
       "    <tr>\n",
       "      <th>13</th>\n",
       "      <td>Spurred butterfly pea</td>\n",
       "      <td>Centrosema virginianum</td>\n",
       "      <td>Pea family</td>\n",
       "      <td>https://bs.floristic.org/image/o/2a73db0405cb3...</td>\n",
       "    </tr>\n",
       "    <tr>\n",
       "      <th>14</th>\n",
       "      <td>Slipper goard</td>\n",
       "      <td>Cyclanthera pedata</td>\n",
       "      <td>Cucumber family</td>\n",
       "      <td>https://bs.floristic.org/image/o/2397a7c80a5be...</td>\n",
       "    </tr>\n",
       "    <tr>\n",
       "      <th>15</th>\n",
       "      <td>None</td>\n",
       "      <td>Cypripedium × columbianum</td>\n",
       "      <td>None</td>\n",
       "      <td>None</td>\n",
       "    </tr>\n",
       "    <tr>\n",
       "      <th>16</th>\n",
       "      <td>None</td>\n",
       "      <td>Cypripedium × andrewsii</td>\n",
       "      <td>None</td>\n",
       "      <td>None</td>\n",
       "    </tr>\n",
       "    <tr>\n",
       "      <th>17</th>\n",
       "      <td>None</td>\n",
       "      <td>Cypripedium × herae</td>\n",
       "      <td>None</td>\n",
       "      <td>None</td>\n",
       "    </tr>\n",
       "  </tbody>\n",
       "</table>\n",
       "</div>"
      ],
      "text/plain": [
       "                     Common_Name            Scientific_Name  \\\n",
       "0                 Lady's-slipper      Cypripedium calceolus   \n",
       "1   Lesser yellow lady's slipper    Cypripedium parviflorum   \n",
       "2           Showy lady's slipper        Cypripedium reginae   \n",
       "3           White lady's slipper       Cypripedium candidum   \n",
       "4         Spotted lady's slipper       Cypripedium guttatum   \n",
       "5      Sparrowegg lady's slipper     Cypripedium passerinum   \n",
       "6        Mountain lady's slipper       Cypripedium montanum   \n",
       "7      Ram's head lady's slipper      Cypripedium arietinum   \n",
       "8      California lady's slipper   Cypripedium californicum   \n",
       "9        Kentucky lady's slipper   Cypripedium kentuckiense   \n",
       "10       Japanese lady's-slipper      Cypripedium japonicum   \n",
       "11               Moccasin flower         Cypripedium acaule   \n",
       "12      Clustered lady's slipper   Cypripedium fasciculatum   \n",
       "13         Spurred butterfly pea     Centrosema virginianum   \n",
       "14                 Slipper goard         Cyclanthera pedata   \n",
       "15                          None  Cypripedium × columbianum   \n",
       "16                          None    Cypripedium × andrewsii   \n",
       "17                          None        Cypripedium × herae   \n",
       "\n",
       "   Family_Common_Name                                          Image_Url  \n",
       "0                None  https://bs.floristic.org/image/o/c832369ad93cd...  \n",
       "1                None  https://bs.floristic.org/image/o/a69bf25c67aea...  \n",
       "2                None  https://d2seqvvyy3b8p2.cloudfront.net/b7f2d9f7...  \n",
       "3                None  https://storage.googleapis.com/powop-assets/or...  \n",
       "4                None  https://d2seqvvyy3b8p2.cloudfront.net/fbe41511...  \n",
       "5                None  https://d2seqvvyy3b8p2.cloudfront.net/46d0db6e...  \n",
       "6                None  https://d2seqvvyy3b8p2.cloudfront.net/1aee1b17...  \n",
       "7                None  https://d2seqvvyy3b8p2.cloudfront.net/8c069578...  \n",
       "8                None                                               None  \n",
       "9                None                                               None  \n",
       "10               None  https://bs.floristic.org/image/o/1d1cc74dda094...  \n",
       "11               None  https://bs.floristic.org/image/o/cf2f457bade4e...  \n",
       "12               None  https://d2seqvvyy3b8p2.cloudfront.net/06979339...  \n",
       "13         Pea family  https://bs.floristic.org/image/o/2a73db0405cb3...  \n",
       "14    Cucumber family  https://bs.floristic.org/image/o/2397a7c80a5be...  \n",
       "15               None                                               None  \n",
       "16               None                                               None  \n",
       "17               None                                               None  "
      ]
     },
     "execution_count": 49,
     "metadata": {},
     "output_type": "execute_result"
    }
   ],
   "source": [
    "plants_returned"
   ]
  },
  {
   "cell_type": "code",
   "execution_count": 50,
   "metadata": {},
   "outputs": [],
   "source": [
    "# almost_final_plant_list = plants_returned[plants_returned['Common_Name'] isNull]\n",
    "  #df_filtered = df[df['Age'] >= 25] \n",
    "    \n",
    "# arg = plants_returned[isNull(plants_returned['Common_Name'])]\n",
    "\n",
    "# almost_final_plant_list= plants_returned.drop(plants_returned[plants_returned['Common_Name']==None].index,inplace = True)\n",
    "# index_names = df[ df['Age'] == 21 ].index \n",
    "# df.drop(index_names, inplace = True)   \n",
    "# index_names = plants_returned[plants_returned['Common_Name'] == None].index\n",
    "# arg1 = plants_returned.drop(index_names,inplace = True)\n",
    "# arg1\n",
    "    \n",
    "#     df.drop(df[df['Age'] < 25].index, inplace = True)\n",
    "# almost_final_plant_list\n",
    "# plants_returned\n",
    "                                          "
   ]
  },
  {
   "cell_type": "code",
   "execution_count": 44,
   "metadata": {},
   "outputs": [
    {
     "data": {
      "text/html": [
       "<div>\n",
       "<style scoped>\n",
       "    .dataframe tbody tr th:only-of-type {\n",
       "        vertical-align: middle;\n",
       "    }\n",
       "\n",
       "    .dataframe tbody tr th {\n",
       "        vertical-align: top;\n",
       "    }\n",
       "\n",
       "    .dataframe thead th {\n",
       "        text-align: right;\n",
       "    }\n",
       "</style>\n",
       "<table border=\"1\" class=\"dataframe\">\n",
       "  <thead>\n",
       "    <tr style=\"text-align: right;\">\n",
       "      <th></th>\n",
       "      <th>Common_Name</th>\n",
       "      <th>Scientific_Name</th>\n",
       "      <th>Family_Common_Name</th>\n",
       "      <th>Image_Url</th>\n",
       "    </tr>\n",
       "  </thead>\n",
       "  <tbody>\n",
       "    <tr>\n",
       "      <th>0</th>\n",
       "      <td>Spurred butterfly pea</td>\n",
       "      <td>Centrosema virginianum</td>\n",
       "      <td>Pea family</td>\n",
       "      <td>https://bs.floristic.org/image/o/2a73db0405cb3...</td>\n",
       "    </tr>\n",
       "    <tr>\n",
       "      <th>1</th>\n",
       "      <td>Slipper goard</td>\n",
       "      <td>Cyclanthera pedata</td>\n",
       "      <td>Cucumber family</td>\n",
       "      <td>https://bs.floristic.org/image/o/2397a7c80a5be...</td>\n",
       "    </tr>\n",
       "  </tbody>\n",
       "</table>\n",
       "</div>"
      ],
      "text/plain": [
       "             Common_Name         Scientific_Name Family_Common_Name  \\\n",
       "0  Spurred butterfly pea  Centrosema virginianum         Pea family   \n",
       "1          Slipper goard      Cyclanthera pedata    Cucumber family   \n",
       "\n",
       "                                           Image_Url  \n",
       "0  https://bs.floristic.org/image/o/2a73db0405cb3...  \n",
       "1  https://bs.floristic.org/image/o/2397a7c80a5be...  "
      ]
     },
     "execution_count": 44,
     "metadata": {},
     "output_type": "execute_result"
    }
   ],
   "source": [
    "final_plant_list = plants_returned.replace(to_replace='None', value=np.nan).dropna().reset_index(drop=True)\n",
    "final_plant_list"
   ]
  },
  {
   "cell_type": "code",
   "execution_count": 19,
   "metadata": {},
   "outputs": [
    {
     "data": {
      "text/plain": [
       "[0, 1]"
      ]
     },
     "execution_count": 19,
     "metadata": {},
     "output_type": "execute_result"
    }
   ],
   "source": [
    "rows = len(final_plant_list.index)\n",
    "if rows < 4:\n",
    "    selected = [i for i in final_plant_list.index]\n",
    "else:\n",
    "    selected = [random.randrange(0, rows, 1) for i in range(4)]\n",
    "selected"
   ]
  },
  {
   "cell_type": "code",
   "execution_count": 11,
   "metadata": {},
   "outputs": [],
   "source": [
    "import requests"
   ]
  },
  {
   "cell_type": "code",
   "execution_count": 12,
   "metadata": {},
   "outputs": [
    {
     "ename": "TypeError",
     "evalue": "'Series' object is not callable",
     "output_type": "error",
     "traceback": [
      "\u001b[1;31m---------------------------------------------------------------------------\u001b[0m",
      "\u001b[1;31mTypeError\u001b[0m                                 Traceback (most recent call last)",
      "\u001b[1;32m<ipython-input-12-a4342ce41cc6>\u001b[0m in \u001b[0;36m<module>\u001b[1;34m\u001b[0m\n\u001b[1;32m----> 1\u001b[1;33m \u001b[0mfinal_plant_list\u001b[0m\u001b[1;33m.\u001b[0m\u001b[0mloc\u001b[0m\u001b[1;33m[\u001b[0m\u001b[1;36m1\u001b[0m\u001b[1;33m]\u001b[0m\u001b[1;33m(\u001b[0m\u001b[0mfinal_plant_list\u001b[0m\u001b[1;33m[\u001b[0m\u001b[1;34m'Image_Url'\u001b[0m\u001b[1;33m]\u001b[0m\u001b[1;33m)\u001b[0m\u001b[1;33m\u001b[0m\u001b[1;33m\u001b[0m\u001b[0m\n\u001b[0m",
      "\u001b[1;31mTypeError\u001b[0m: 'Series' object is not callable"
     ]
    }
   ],
   "source": [
    "final_plant_list.loc[1](final_plant_list['Image_Url'])"
   ]
  },
  {
   "cell_type": "code",
   "execution_count": null,
   "metadata": {},
   "outputs": [],
   "source": [
    "for i in selected:\n",
    "    image = (f\"'{final_plant_list.loc[i](final_plant_image['Image_Url'])}'\")\n",
    "    print(image)\n",
    "    "
   ]
  },
  {
   "cell_type": "code",
   "execution_count": null,
   "metadata": {},
   "outputs": [],
   "source": []
  },
  {
   "cell_type": "code",
   "execution_count": null,
   "metadata": {},
   "outputs": [],
   "source": [
    "# final_plant_list = plants_returned.drop(plants_returned.loc[plants_returned.Common_Name == 'None'].index, inplace=True)\n",
    "# final_plant_list"
   ]
  },
  {
   "cell_type": "code",
   "execution_count": null,
   "metadata": {},
   "outputs": [],
   "source": [
    "# Need to get data on all species and species and save it as a DB \n",
    "species_url = url = f\"https://trefle.io/api/v1/species?token={token}\"\n",
    "all_species = requests.get(species_url)\n",
    "species_list = all_plants.json()['data']\n",
    "# species_list"
   ]
  },
  {
   "cell_type": "code",
   "execution_count": null,
   "metadata": {},
   "outputs": [],
   "source": [
    "# Need to get data on all edible plants and species and save it as a DB \n",
    "edible_url = f\"https://trefle.io/api/v1/plants?filter_not%5Bedible_part%5D=null&token={token}\"\n",
    "all_edible = requests.get(edible_url)\n",
    "edible_list = all_plants.json()['data']\n",
    "# edible_list"
   ]
  },
  {
   "cell_type": "code",
   "execution_count": null,
   "metadata": {},
   "outputs": [],
   "source": [
    "# Get all Tallest trees\n",
    "tall_tree_url = f\"https://trefle.io/api/v1/plants?filter_not%5Bmaximum_height_cm%5D=null&filter%5Bligneous_type%5D=tree&order%5Bmaximum_height_cm%5D=desc&token={token}\"\n",
    "all_tall_tree = requests.get(tall_tree_url)\n",
    "tall_tree_list = all_tall_tree.json()['data']\n",
    "# tall_tree_list"
   ]
  },
  {
   "cell_type": "code",
   "execution_count": null,
   "metadata": {},
   "outputs": [],
   "source": [
    "# Get all the Countries/zones\n",
    "zones_url = f\"https://trefle.io/api/v1/distributions?token={token}\"\n",
    "zones_list = requests.get(zones_url).json()['data']\n",
    "zones_list"
   ]
  },
  {
   "cell_type": "code",
   "execution_count": null,
   "metadata": {},
   "outputs": [],
   "source": [
    "requests.get(zones_url).json()"
   ]
  },
  {
   "cell_type": "code",
   "execution_count": null,
   "metadata": {},
   "outputs": [],
   "source": [
    "zone_test = requests.get(zones_url).json()\n",
    "# zone_test"
   ]
  },
  {
   "cell_type": "code",
   "execution_count": null,
   "metadata": {},
   "outputs": [],
   "source": [
    "# Get all Family\n",
    "family_url = \"https://trefle.io/api/v1/families/?token={token}\"\n",
    "family_list = requests.get(family_url).json()['data']\n",
    "# family_list"
   ]
  },
  {
   "cell_type": "code",
   "execution_count": null,
   "metadata": {},
   "outputs": [],
   "source": [
    "# Get all genus\n",
    "genus_url = f\"https://trefle.io/api/v1/genus?token={token}\"\n",
    "genus_list = requests.get(genus_url).json()['data']"
   ]
  },
  {
   "cell_type": "code",
   "execution_count": null,
   "metadata": {},
   "outputs": [],
   "source": [
    "# Initialize PyMongo to work with MongoDBs\n",
    "conn = 'mongodb://localhost:27017'\n",
    "client = pymongo.MongoClient(conn)"
   ]
  },
  {
   "cell_type": "code",
   "execution_count": null,
   "metadata": {},
   "outputs": [],
   "source": [
    "db = client.trefle\n",
    "collection = db.plants"
   ]
  },
  {
   "cell_type": "code",
   "execution_count": null,
   "metadata": {},
   "outputs": [],
   "source": [
    "collection.insert_many(plants_list)"
   ]
  },
  {
   "cell_type": "code",
   "execution_count": null,
   "metadata": {},
   "outputs": [],
   "source": [
    "collection = db.species\n",
    "collection.insert_many(species_list)"
   ]
  },
  {
   "cell_type": "code",
   "execution_count": null,
   "metadata": {},
   "outputs": [],
   "source": [
    "collection = db.edible_plants\n",
    "collection.insert_many(edible_list)"
   ]
  },
  {
   "cell_type": "code",
   "execution_count": null,
   "metadata": {},
   "outputs": [],
   "source": [
    "collection = db.tall_tree\n",
    "collection.insert_many(tall_tree_list)"
   ]
  },
  {
   "cell_type": "code",
   "execution_count": null,
   "metadata": {},
   "outputs": [],
   "source": [
    "collection = db.country_zones\n",
    "collection.insert_many(zones_list)"
   ]
  },
  {
   "cell_type": "code",
   "execution_count": null,
   "metadata": {},
   "outputs": [],
   "source": [
    "collection = db.genus\n",
    "collection.insert_many(genus_list)"
   ]
  },
  {
   "cell_type": "code",
   "execution_count": null,
   "metadata": {},
   "outputs": [],
   "source": [
    "collection =db.family\n",
    "collection.insert_many(family_list)"
   ]
  },
  {
   "cell_type": "code",
   "execution_count": 4,
   "metadata": {},
   "outputs": [
    {
     "data": {
      "text/plain": [
       "9"
      ]
     },
     "execution_count": 4,
     "metadata": {},
     "output_type": "execute_result"
    }
   ],
   "source": [
    "import math\n",
    "meta_data = 180\n",
    "pages = math.ceil(meta_data/20)\n",
    "pages"
   ]
  }
 ],
 "metadata": {
  "kernelspec": {
   "display_name": "Python 3",
   "language": "python",
   "name": "python3"
  },
  "language_info": {
   "codemirror_mode": {
    "name": "ipython",
    "version": 3
   },
   "file_extension": ".py",
   "mimetype": "text/x-python",
   "name": "python",
   "nbconvert_exporter": "python",
   "pygments_lexer": "ipython3",
   "version": "3.8.3"
  }
 },
 "nbformat": 4,
 "nbformat_minor": 4
}
